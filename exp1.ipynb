{
  "nbformat": 4,
  "nbformat_minor": 0,
  "metadata": {
    "colab": {
      "name": "exp1.ipynb",
      "provenance": [],
      "collapsed_sections": [],
      "authorship_tag": "ABX9TyMj/1Y5Vrshq5GZIcMGGXvQ",
      "include_colab_link": true
    },
    "kernelspec": {
      "name": "python3",
      "display_name": "Python 3"
    },
    "language_info": {
      "name": "python"
    }
  },
  "cells": [
    {
      "cell_type": "markdown",
      "metadata": {
        "id": "view-in-github",
        "colab_type": "text"
      },
      "source": [
        "<a href=\"https://colab.research.google.com/github/sac-1234/hello/blob/main/exp1.ipynb\" target=\"_parent\"><img src=\"https://colab.research.google.com/assets/colab-badge.svg\" alt=\"Open In Colab\"/></a>"
      ]
    },
    {
      "cell_type": "code",
      "execution_count": null,
      "metadata": {
        "id": "AWkR7-ThTEIe"
      },
      "outputs": [],
      "source": [
        "print('hello')"
      ]
    },
    {
      "cell_type": "code",
      "source": [
        "if(5>2):\n",
        "  print('5 is greater than 2')"
      ],
      "metadata": {
        "id": "AW5x0N8mY5Wo"
      },
      "execution_count": null,
      "outputs": []
    },
    {
      "cell_type": "code",
      "source": [
        ""
      ],
      "metadata": {
        "id": "V37cmuBxaSof"
      },
      "execution_count": null,
      "outputs": []
    },
    {
      "cell_type": "code",
      "source": [
        "if(5>2):\n",
        "  print('h5 is greater than 2')\n",
        "  if(5>2):\n",
        "   print('h5 is greater than 2')\n",
        "  "
      ],
      "metadata": {
        "id": "THNoOODtaSpY"
      },
      "execution_count": null,
      "outputs": []
    },
    {
      "cell_type": "code",
      "source": [
        "if(5>2):\n",
        "  print('h5 is greater than 2')\n",
        "  print('h5 is greater than 2')"
      ],
      "metadata": {
        "id": "YwuFJy7Eal8f"
      },
      "execution_count": null,
      "outputs": []
    },
    {
      "cell_type": "code",
      "source": [
        "x=5\n",
        "y='john'\n",
        "print(x)\n",
        "print(y)"
      ],
      "metadata": {
        "id": "V2Ajzo8Vbhdw"
      },
      "execution_count": null,
      "outputs": []
    },
    {
      "cell_type": "code",
      "source": [
        "x=int(3)\n",
        "z=str('3')\n",
        "z=3.0\n",
        "print(x)\n",
        "print(y)\n",
        "print(z)\n",
        "print(type(x))\n",
        "print(type(y))\n",
        "print(type(z))"
      ],
      "metadata": {
        "id": "WB-ULVoEbhkf"
      },
      "execution_count": null,
      "outputs": []
    },
    {
      "cell_type": "code",
      "source": [
        "x,y,z=\"sachin\",\"sharma\",0\n",
        "print(x)\n",
        "print(y)\n",
        "print(z)"
      ],
      "metadata": {
        "id": "fw31uEknbhlX"
      },
      "execution_count": null,
      "outputs": []
    },
    {
      "cell_type": "code",
      "source": [
        "x=y=z='orange'\n",
        "print(x)\n",
        "print(y)\n",
        "print(z)\n"
      ],
      "metadata": {
        "id": "gtwomTBXdKS4"
      },
      "execution_count": null,
      "outputs": []
    },
    {
      "cell_type": "code",
      "source": [
        "fruits=['apple','banana','chiku']\n",
        "x,y,z=fruits\n",
        "print(x)\n",
        "print(y)\n",
        "print(z)"
      ],
      "metadata": {
        "id": "iTqCKK40eOCZ"
      },
      "execution_count": null,
      "outputs": []
    },
    {
      "cell_type": "code",
      "source": [
        "x='awesome'\n",
        "print('python is'+' ' +x)"
      ],
      "metadata": {
        "id": "BGuFt-PVgLcQ"
      },
      "execution_count": null,
      "outputs": []
    },
    {
      "cell_type": "code",
      "source": [
        "name=str(input(\"enter name\"))\n",
        "print(name)"
      ],
      "metadata": {
        "id": "AiPjserHtWis"
      },
      "execution_count": null,
      "outputs": []
    },
    {
      "cell_type": "code",
      "source": [
        "x=1\n",
        "y=1.0\n",
        "z='1'\n",
        "z=int('1')\n",
        "c=1j\n",
        "print(c)\n",
        "z=complex(x)\n",
        "print(z)\n",
        "print(type(z))"
      ],
      "metadata": {
        "id": "DPpS6NwotEwF"
      },
      "execution_count": null,
      "outputs": []
    },
    {
      "cell_type": "code",
      "source": [
        "a=int(input('enter number'))\n",
        "b=int(input('enter number'))\n",
        "print(\"sum=\"+str(a+b))"
      ],
      "metadata": {
        "id": "Fe6wRzKzw_09"
      },
      "execution_count": null,
      "outputs": []
    },
    {
      "cell_type": "code",
      "source": [
        "x=[\"apple\",\"banana\"]\n",
        "y=[\"apple\",\"banana\"]\n",
        "z=x\n",
        "print(x is z)\n",
        "print(x is y)\n",
        "print(x==y)"
      ],
      "metadata": {
        "id": "TYYj4oJx0jfc"
      },
      "execution_count": null,
      "outputs": []
    },
    {
      "cell_type": "code",
      "source": [
        "x=[\"apple\",\"banana\"]\n",
        "y=[\"apple\",\"banana\"]\n",
        "z=x\n",
        "print(x is not z)\n",
        "print(x is not y)\n",
        "print(x!=y)"
      ],
      "metadata": {
        "id": "WVuD_yoe1jI0"
      },
      "execution_count": null,
      "outputs": []
    },
    {
      "cell_type": "code",
      "source": [
        "x=[\"apple\",\"banana\"]\n",
        "print(\"pineapple\" not in x)"
      ],
      "metadata": {
        "id": "KthsvHPO3rLF"
      },
      "execution_count": null,
      "outputs": []
    },
    {
      "cell_type": "code",
      "source": [
        "a=29\n",
        "b=28\n",
        "if(a>b):\n",
        "  print(\"if passed\")\n",
        "  if(a<30):\n",
        "    print(\"a is less than 30\")\n",
        "elif(a==b):\n",
        "  print(\"elif\")\n",
        "else:\n",
        "  print(\"else condition\")"
      ],
      "metadata": {
        "id": "OjV04gU44jdU"
      },
      "execution_count": null,
      "outputs": []
    },
    {
      "cell_type": "code",
      "source": [
        "a=29\n",
        "b=28\n",
        "if(a>b):\n",
        "  pass\n",
        "  print(\"if passed\")\n",
        "  if(a<30):\n",
        "    print(\"a is less than 30\")\n",
        "elif(a==b):\n",
        "  print(\"elif\")\n",
        "else:\n",
        "  print(\"else condition\")"
      ],
      "metadata": {
        "id": "5g66u5924wOT"
      },
      "execution_count": null,
      "outputs": []
    },
    {
      "cell_type": "code",
      "source": [
        "i=1\n",
        "while i<6:\n",
        "  print(i)\n",
        "  i+=1"
      ],
      "metadata": {
        "id": "UPhf4_K77jrk"
      },
      "execution_count": null,
      "outputs": []
    },
    {
      "cell_type": "code",
      "source": [
        ""
      ],
      "metadata": {
        "id": "z5gA7M_-8dLO"
      },
      "execution_count": null,
      "outputs": []
    },
    {
      "cell_type": "code",
      "source": [
        "\n",
        "for x in \"sachin\":\n",
        " print(x)"
      ],
      "metadata": {
        "id": "a5WzTobN8JYi"
      },
      "execution_count": null,
      "outputs": []
    },
    {
      "cell_type": "code",
      "source": [
        "a=int(input(\"enter number\"))\n",
        "b=int(input(\"enter number\"))\n",
        "c=int(input(\"enter number\"))\n",
        "if a>b and a>c:\n",
        "  print(\"max is \",a)\n",
        "elif b>a and b>c:\n",
        "  print(\"max is \",b)\n",
        "else:\n",
        "  print(\"max is \",c)\n",
        "  "
      ],
      "metadata": {
        "id": "_Bn3vPWc8nMt"
      },
      "execution_count": null,
      "outputs": []
    },
    {
      "cell_type": "code",
      "source": [
        "for i in range(2,11):\n",
        " print(float(1/i))"
      ],
      "metadata": {
        "id": "GDuIDEbW-aKs"
      },
      "execution_count": null,
      "outputs": []
    },
    {
      "cell_type": "code",
      "source": [
        "n=int(input(\"enter number\"))\n",
        "while(n>=0):\n",
        "  print(n)\n",
        "  n-=1"
      ],
      "metadata": {
        "id": "mnrBnfAM_FJs"
      },
      "execution_count": null,
      "outputs": []
    },
    {
      "cell_type": "code",
      "source": [
        "tlist=[\"a\",\"b\",\"c\"]\n",
        "print(tlist)"
      ],
      "metadata": {
        "colab": {
          "base_uri": "https://localhost:8080/"
        },
        "id": "6R_G4rUIJN4T",
        "outputId": "585ed243-4f16-4f18-96ed-596fcc53e9eb"
      },
      "execution_count": 116,
      "outputs": [
        {
          "output_type": "stream",
          "name": "stdout",
          "text": [
            "['a', 'b', 'c']\n"
          ]
        }
      ]
    },
    {
      "cell_type": "code",
      "source": [
        "tlist=[\"a\",\"b\",\"c\"]\n",
        "print(len(tlist))"
      ],
      "metadata": {
        "colab": {
          "base_uri": "https://localhost:8080/"
        },
        "id": "d-ZMXQ0_KF6i",
        "outputId": "f00b75b5-b6c1-49c0-c13f-40a9f262757a"
      },
      "execution_count": 115,
      "outputs": [
        {
          "output_type": "stream",
          "name": "stdout",
          "text": [
            "3\n"
          ]
        }
      ]
    },
    {
      "cell_type": "code",
      "source": [
        "tlist=[\"a\",\"b\",\"c\"]\n",
        "print(tlist[1])"
      ],
      "metadata": {
        "colab": {
          "base_uri": "https://localhost:8080/"
        },
        "id": "92wSuXzuKHLJ",
        "outputId": "48cee376-2283-4652-d938-fad07bef7f6e"
      },
      "execution_count": 71,
      "outputs": [
        {
          "output_type": "stream",
          "name": "stdout",
          "text": [
            "b\n"
          ]
        }
      ]
    },
    {
      "cell_type": "code",
      "source": [
        "tlist=[\"a\",\"b\",\"c\"]\n",
        "for x in  tlist:\n",
        " print(x)"
      ],
      "metadata": {
        "colab": {
          "base_uri": "https://localhost:8080/"
        },
        "id": "SUVlabu6KWMR",
        "outputId": "392d84f9-0718-41de-877c-ff3558b2ec17"
      },
      "execution_count": 117,
      "outputs": [
        {
          "output_type": "stream",
          "name": "stdout",
          "text": [
            "a\n",
            "b\n",
            "c\n"
          ]
        }
      ]
    },
    {
      "cell_type": "code",
      "source": [
        "tlist=[\"a\",\"b\",\"c\"]\n",
        "print(tlist[-1])"
      ],
      "metadata": {
        "colab": {
          "base_uri": "https://localhost:8080/"
        },
        "id": "FLk7VXySLCFb",
        "outputId": "5748688c-b67b-4a93-afdc-72c0a176b502"
      },
      "execution_count": 76,
      "outputs": [
        {
          "output_type": "stream",
          "name": "stdout",
          "text": [
            "c\n"
          ]
        }
      ]
    },
    {
      "cell_type": "code",
      "source": [
        "tlist=[\"a\",\"b\",\"c\"]\n",
        "print(tlist[1:])"
      ],
      "metadata": {
        "colab": {
          "base_uri": "https://localhost:8080/"
        },
        "id": "j9q7khqmL_0p",
        "outputId": "8bc747f0-1978-45cf-b6d2-b8736175bef1"
      },
      "execution_count": 84,
      "outputs": [
        {
          "output_type": "stream",
          "name": "stdout",
          "text": [
            "['b', 'c']\n"
          ]
        }
      ]
    },
    {
      "cell_type": "code",
      "source": [
        "if 'b' in tlist:\n",
        "  print(\"yesss\")"
      ],
      "metadata": {
        "id": "4icA4uqgL-kT",
        "colab": {
          "base_uri": "https://localhost:8080/"
        },
        "outputId": "b700c8e3-7da2-456d-c872-71a86af47115"
      },
      "execution_count": 87,
      "outputs": [
        {
          "output_type": "stream",
          "name": "stdout",
          "text": [
            "yesss\n"
          ]
        }
      ]
    },
    {
      "cell_type": "code",
      "source": [
        "for x in tlist :\n",
        "  if 'a'==x:\n",
        "    print('yess')\n",
        "    break"
      ],
      "metadata": {
        "colab": {
          "base_uri": "https://localhost:8080/"
        },
        "id": "Lw6SPd4mMx4C",
        "outputId": "5251ae95-47a2-4230-f649-ec7bf1d5d196"
      },
      "execution_count": 94,
      "outputs": [
        {
          "output_type": "stream",
          "name": "stdout",
          "text": [
            "yess\n"
          ]
        }
      ]
    },
    {
      "cell_type": "code",
      "source": [
        "c=tlist[0]\n",
        "tlist[0]=tlist[1]\n",
        "tlist[1]=c\n",
        "print(tlist)"
      ],
      "metadata": {
        "colab": {
          "base_uri": "https://localhost:8080/"
        },
        "id": "hu-gbCMMMyKh",
        "outputId": "00fa87c5-7843-4393-9f0a-6adb882d55cb"
      },
      "execution_count": 95,
      "outputs": [
        {
          "output_type": "stream",
          "name": "stdout",
          "text": [
            "['b', 'a', 'c']\n"
          ]
        }
      ]
    },
    {
      "cell_type": "code",
      "source": [
        "tlist[1:2]=[\"d\",\"e\",\"f\"]\n",
        "print(tlist)"
      ],
      "metadata": {
        "colab": {
          "base_uri": "https://localhost:8080/"
        },
        "id": "lLkJ2izvMyPc",
        "outputId": "40830285-6a2b-4e50-e703-6322aec7f882"
      },
      "execution_count": 120,
      "outputs": [
        {
          "output_type": "stream",
          "name": "stdout",
          "text": [
            "['a', 'd', 'e', 'f', 'h', 'c', 'u']\n"
          ]
        }
      ]
    },
    {
      "cell_type": "code",
      "source": [
        "tlist.insert(2,'h')\n",
        "print(tlist)"
      ],
      "metadata": {
        "colab": {
          "base_uri": "https://localhost:8080/"
        },
        "id": "q8OvRbNNMySU",
        "outputId": "ad744780-be7f-40d8-ca0b-66ccadefc9ee"
      },
      "execution_count": 119,
      "outputs": [
        {
          "output_type": "stream",
          "name": "stdout",
          "text": [
            "['a', 'b', 'h', 'c', 'u']\n"
          ]
        }
      ]
    },
    {
      "cell_type": "code",
      "source": [
        "tlist.append(\"u\")\n",
        "print(tlist)"
      ],
      "metadata": {
        "colab": {
          "base_uri": "https://localhost:8080/"
        },
        "id": "yZPmxOpIMyVN",
        "outputId": "2a9471da-6ec0-4714-f08e-58353dc1a473"
      },
      "execution_count": 118,
      "outputs": [
        {
          "output_type": "stream",
          "name": "stdout",
          "text": [
            "['a', 'b', 'c', 'u']\n"
          ]
        }
      ]
    },
    {
      "cell_type": "code",
      "source": [
        "ta=[\"r\",\"s\"]"
      ],
      "metadata": {
        "id": "cK8Yy8juMyX6"
      },
      "execution_count": 105,
      "outputs": []
    },
    {
      "cell_type": "code",
      "source": [
        "tlist.extend(ta)\n",
        "print(tlist)"
      ],
      "metadata": {
        "colab": {
          "base_uri": "https://localhost:8080/"
        },
        "id": "oAdfbeUaMyaP",
        "outputId": "33a22bc0-2e47-42ca-eda6-151dd888c0bc"
      },
      "execution_count": 107,
      "outputs": [
        {
          "output_type": "stream",
          "name": "stdout",
          "text": [
            "['b', 'd', 'h', 'g', 'g', 'e', 'f', 'e', 'f', 'f', 'c', 'u', 'r', 's']\n"
          ]
        }
      ]
    },
    {
      "cell_type": "code",
      "source": [
        "tlist.remove('g')\n",
        "print(tlist)"
      ],
      "metadata": {
        "colab": {
          "base_uri": "https://localhost:8080/"
        },
        "id": "gPCch_tSMycv",
        "outputId": "84f0b5f0-f864-4a05-c95a-ef77a5bc9998"
      },
      "execution_count": 108,
      "outputs": [
        {
          "output_type": "stream",
          "name": "stdout",
          "text": [
            "['b', 'd', 'h', 'g', 'e', 'f', 'e', 'f', 'f', 'c', 'u', 'r', 's']\n"
          ]
        }
      ]
    },
    {
      "cell_type": "code",
      "source": [
        "tlist.pop()\n",
        "print(tlist)"
      ],
      "metadata": {
        "colab": {
          "base_uri": "https://localhost:8080/"
        },
        "id": "laqDZp0KUI1B",
        "outputId": "9d23b059-3bbe-452f-bd0b-151b6cfbeb9a"
      },
      "execution_count": 109,
      "outputs": [
        {
          "output_type": "stream",
          "name": "stdout",
          "text": [
            "['b', 'd', 'h', 'g', 'e', 'f', 'e', 'f', 'f', 'c', 'u', 'r']\n"
          ]
        }
      ]
    },
    {
      "cell_type": "code",
      "source": [
        "tlist.pop(2)\n",
        "print(tlist)"
      ],
      "metadata": {
        "colab": {
          "base_uri": "https://localhost:8080/"
        },
        "id": "PcHNLe_tUI3j",
        "outputId": "a5a91882-b8b6-4fcf-d9d0-6785a4f95b3b"
      },
      "execution_count": 111,
      "outputs": [
        {
          "output_type": "stream",
          "name": "stdout",
          "text": [
            "['b', 'd', 'g', 'e', 'f', 'e', 'f', 'f', 'c', 'u', 'r']\n"
          ]
        }
      ]
    },
    {
      "cell_type": "code",
      "source": [
        "del tlist[1]\n",
        "print(tlist)"
      ],
      "metadata": {
        "colab": {
          "base_uri": "https://localhost:8080/"
        },
        "id": "h1pSZiJLUI55",
        "outputId": "477fa3d0-6a6a-4812-c31f-65450b82a7ad"
      },
      "execution_count": 122,
      "outputs": [
        {
          "output_type": "stream",
          "name": "stdout",
          "text": [
            "['a', 'f', 'h', 'c', 'u']\n"
          ]
        }
      ]
    },
    {
      "cell_type": "code",
      "source": [
        "for i in range(len(tlist)):\n",
        "  print(\"pos of elemenmt ,\",i,tlist[i] )"
      ],
      "metadata": {
        "colab": {
          "base_uri": "https://localhost:8080/"
        },
        "id": "BauTUS0XUI8K",
        "outputId": "46951e21-95d4-4b4b-d209-afa58680e882"
      },
      "execution_count": 123,
      "outputs": [
        {
          "output_type": "stream",
          "name": "stdout",
          "text": [
            "pos of elemenmt , 0 a\n",
            "pos of elemenmt , 1 f\n",
            "pos of elemenmt , 2 h\n",
            "pos of elemenmt , 3 c\n",
            "pos of elemenmt , 4 u\n"
          ]
        }
      ]
    },
    {
      "cell_type": "code",
      "source": [
        "i=0\n",
        "while i<len(tlist):\n",
        "   print(\"pos of elemenmt ,\",i,tlist[i] )\n",
        "   i+=1"
      ],
      "metadata": {
        "colab": {
          "base_uri": "https://localhost:8080/"
        },
        "id": "1gu17xXDUI-j",
        "outputId": "a404d3c1-9150-4dd1-8685-02133bb36831"
      },
      "execution_count": 126,
      "outputs": [
        {
          "output_type": "stream",
          "name": "stdout",
          "text": [
            "pos of elemenmt , 0 a\n",
            "pos of elemenmt , 1 f\n",
            "pos of elemenmt , 2 h\n",
            "pos of elemenmt , 3 c\n",
            "pos of elemenmt , 4 u\n"
          ]
        }
      ]
    },
    {
      "cell_type": "code",
      "source": [
        "tlist.sort()\n",
        "print(tlist)\n",
        "tlist.sort(reverse= True)\n",
        "print(tlist)"
      ],
      "metadata": {
        "colab": {
          "base_uri": "https://localhost:8080/"
        },
        "id": "x40Cz6ApUJBA",
        "outputId": "d753b8d0-2be9-42ee-fccd-504dd40fca3f"
      },
      "execution_count": 129,
      "outputs": [
        {
          "output_type": "stream",
          "name": "stdout",
          "text": [
            "['a', 'c', 'f', 'h', 'u']\n",
            "['u', 'h', 'f', 'c', 'a']\n"
          ]
        }
      ]
    },
    {
      "cell_type": "code",
      "source": [
        "tlist.reverse()\n",
        "print(tlist)"
      ],
      "metadata": {
        "colab": {
          "base_uri": "https://localhost:8080/"
        },
        "id": "tZvpWZOFUJDg",
        "outputId": "cb6431d2-d4a8-496b-8503-a0ea9557b8e8"
      },
      "execution_count": 131,
      "outputs": [
        {
          "output_type": "stream",
          "name": "stdout",
          "text": [
            "['u', 'h', 'f', 'c', 'a']\n"
          ]
        }
      ]
    },
    {
      "cell_type": "code",
      "source": [
        "mlist=tlist.copy()\n",
        "print(mlist)"
      ],
      "metadata": {
        "colab": {
          "base_uri": "https://localhost:8080/"
        },
        "id": "aihgozNnUJF_",
        "outputId": "9dec5901-7e71-471e-c841-3d7d23fda31f"
      },
      "execution_count": 132,
      "outputs": [
        {
          "output_type": "stream",
          "name": "stdout",
          "text": [
            "['u', 'h', 'f', 'c', 'a']\n"
          ]
        }
      ]
    },
    {
      "cell_type": "code",
      "source": [
        "ttuple=(\"a\",\"b\",\"c\",\"d\")\n",
        "print(ttuple)"
      ],
      "metadata": {
        "colab": {
          "base_uri": "https://localhost:8080/"
        },
        "id": "RKZSRMwNUJIK",
        "outputId": "12d1f9cd-709a-45a0-a975-192b1585d852"
      },
      "execution_count": 133,
      "outputs": [
        {
          "output_type": "stream",
          "name": "stdout",
          "text": [
            "('a', 'b', 'c', 'd')\n"
          ]
        }
      ]
    },
    {
      "cell_type": "code",
      "source": [
        "ttuple=(\"a\",\"b\",\"c\",\"d\")\n",
        "y=list(ttuple)\n",
        "y[0]=\"e\"\n",
        "ttuple=tuple(y)\n",
        "print(ttuple)"
      ],
      "metadata": {
        "colab": {
          "base_uri": "https://localhost:8080/"
        },
        "id": "WlchP1qbcXwT",
        "outputId": "7c7ab998-e555-45e1-e10c-5e17cf070226"
      },
      "execution_count": 157,
      "outputs": [
        {
          "output_type": "stream",
          "name": "stdout",
          "text": [
            "('e', 'b', 'c', 'd')\n"
          ]
        }
      ]
    },
    {
      "cell_type": "code",
      "source": [
        "y=list(ttuple)\n",
        "y.append('e')\n",
        "ttuple=tuple(y)\n",
        "print(ttuple)"
      ],
      "metadata": {
        "colab": {
          "base_uri": "https://localhost:8080/"
        },
        "id": "BiQHtG4_cXzJ",
        "outputId": "dabcbc19-dc36-4573-ba9e-3702b121a619"
      },
      "execution_count": 156,
      "outputs": [
        {
          "output_type": "stream",
          "name": "stdout",
          "text": [
            "('a', 'b', 'c', 'd', 'e')\n"
          ]
        }
      ]
    },
    {
      "cell_type": "code",
      "source": [
        "fruits=(\"apple\",\"banana\",\"chiku\")\n",
        "(green ,yellow,pink )=fruits\n",
        "print(green)\n",
        "print(yellow)\n",
        "print(pink)\n"
      ],
      "metadata": {
        "colab": {
          "base_uri": "https://localhost:8080/"
        },
        "id": "D3rg8A86cX13",
        "outputId": "ff3e8d11-a8ab-45ec-cf3f-eee9ef762165"
      },
      "execution_count": 158,
      "outputs": [
        {
          "output_type": "stream",
          "name": "stdout",
          "text": [
            "apple\n",
            "banana\n",
            "chiku\n"
          ]
        }
      ]
    },
    {
      "cell_type": "code",
      "source": [
        "fruits=(\"apple\",\"banana\",\"chiku\",\"lichi\")\n",
        "(green ,yellow, *pink )=fruits\n",
        "print(green)\n",
        "print(yellow)\n",
        "print(*pink)\n"
      ],
      "metadata": {
        "colab": {
          "base_uri": "https://localhost:8080/"
        },
        "id": "dRBNF3tXcX4V",
        "outputId": "c5a4eec7-16c7-4f5e-e4e0-62a57ac37703"
      },
      "execution_count": 159,
      "outputs": [
        {
          "output_type": "stream",
          "name": "stdout",
          "text": [
            "apple\n",
            "banana\n",
            "chiku lichi\n"
          ]
        }
      ]
    },
    {
      "cell_type": "code",
      "source": [
        "tlist=tlist*2\n",
        "print(tlist)"
      ],
      "metadata": {
        "colab": {
          "base_uri": "https://localhost:8080/"
        },
        "id": "EhZDZpnCcX6y",
        "outputId": "cf82ea47-1fdf-447d-cb24-33c46d75197f"
      },
      "execution_count": 160,
      "outputs": [
        {
          "output_type": "stream",
          "name": "stdout",
          "text": [
            "['u', 'h', 'f', 'c', 'a', 'u', 'h', 'f', 'c', 'a']\n"
          ]
        }
      ]
    },
    {
      "cell_type": "code",
      "source": [
        "tset={\"apple\",\"banana\",\"chiku\",\"apple\",\"banana\",\"chiku\"}\n",
        "print(tset)"
      ],
      "metadata": {
        "colab": {
          "base_uri": "https://localhost:8080/"
        },
        "id": "ECF9Z4IScX9c",
        "outputId": "e934b7bc-db97-4341-9a6c-f2df138c43fc"
      },
      "execution_count": 161,
      "outputs": [
        {
          "output_type": "stream",
          "name": "stdout",
          "text": [
            "{'chiku', 'banana', 'apple'}\n"
          ]
        }
      ]
    },
    {
      "cell_type": "code",
      "source": [
        "tset1={1,3,5,7}\n",
        "tset1 = tset1 *2\n",
        "print(tset1)"
      ],
      "metadata": {
        "colab": {
          "base_uri": "https://localhost:8080/",
          "height": 200
        },
        "id": "YQwm8nAojD9z",
        "outputId": "2cb739c5-8856-4a1a-f9a9-e4a62321da56"
      },
      "execution_count": 168,
      "outputs": [
        {
          "output_type": "error",
          "ename": "TypeError",
          "evalue": "ignored",
          "traceback": [
            "\u001b[0;31m---------------------------------------------------------------------------\u001b[0m",
            "\u001b[0;31mTypeError\u001b[0m                                 Traceback (most recent call last)",
            "\u001b[0;32m<ipython-input-168-35e6644c2056>\u001b[0m in \u001b[0;36m<module>\u001b[0;34m()\u001b[0m\n\u001b[1;32m      1\u001b[0m \u001b[0mtset1\u001b[0m\u001b[0;34m=\u001b[0m\u001b[0;34m{\u001b[0m\u001b[0;36m1\u001b[0m\u001b[0;34m,\u001b[0m\u001b[0;36m3\u001b[0m\u001b[0;34m,\u001b[0m\u001b[0;36m5\u001b[0m\u001b[0;34m,\u001b[0m\u001b[0;36m7\u001b[0m\u001b[0;34m}\u001b[0m\u001b[0;34m\u001b[0m\u001b[0;34m\u001b[0m\u001b[0m\n\u001b[0;32m----> 2\u001b[0;31m \u001b[0mtset1\u001b[0m \u001b[0;34m=\u001b[0m \u001b[0mtset1\u001b[0m \u001b[0;34m*\u001b[0m\u001b[0;36m2\u001b[0m\u001b[0;34m\u001b[0m\u001b[0;34m\u001b[0m\u001b[0m\n\u001b[0m\u001b[1;32m      3\u001b[0m \u001b[0mprint\u001b[0m\u001b[0;34m(\u001b[0m\u001b[0mtset1\u001b[0m\u001b[0;34m)\u001b[0m\u001b[0;34m\u001b[0m\u001b[0;34m\u001b[0m\u001b[0m\n",
            "\u001b[0;31mTypeError\u001b[0m: unsupported operand type(s) for *: 'set' and 'int'"
          ]
        }
      ]
    },
    {
      "cell_type": "code",
      "source": [
        "tset.add(\"orange\")\n",
        "print(tset)"
      ],
      "metadata": {
        "colab": {
          "base_uri": "https://localhost:8080/"
        },
        "id": "TjysXuvTjEAK",
        "outputId": "e3f76272-ade0-4da5-f55c-c9fbf0a3d954"
      },
      "execution_count": 170,
      "outputs": [
        {
          "output_type": "stream",
          "name": "stdout",
          "text": [
            "{'chiku', 'banana', 'orange', 'apple'}\n",
            "{'chiku', 'banana', 'orange', 'apple'}\n"
          ]
        }
      ]
    },
    {
      "cell_type": "code",
      "source": [
        "tset.update(tset1)\n",
        "print(tset)"
      ],
      "metadata": {
        "colab": {
          "base_uri": "https://localhost:8080/"
        },
        "id": "1VbIxDlzjEC8",
        "outputId": "1f9f421f-16e7-47d6-95eb-4a5df3b86ab5"
      },
      "execution_count": 171,
      "outputs": [
        {
          "output_type": "stream",
          "name": "stdout",
          "text": [
            "{1, 3, 'banana', 5, 7, 'orange', 'chiku', 'apple'}\n"
          ]
        }
      ]
    },
    {
      "cell_type": "code",
      "source": [
        "tset.sort()\n",
        "print(tset)"
      ],
      "metadata": {
        "colab": {
          "base_uri": "https://localhost:8080/",
          "height": 183
        },
        "id": "usQezTuTjEFV",
        "outputId": "2ad7e702-43f3-4579-eca5-77d33e56df89"
      },
      "execution_count": 183,
      "outputs": [
        {
          "output_type": "error",
          "ename": "AttributeError",
          "evalue": "ignored",
          "traceback": [
            "\u001b[0;31m---------------------------------------------------------------------------\u001b[0m",
            "\u001b[0;31mAttributeError\u001b[0m                            Traceback (most recent call last)",
            "\u001b[0;32m<ipython-input-183-31969dcb1f8d>\u001b[0m in \u001b[0;36m<module>\u001b[0;34m()\u001b[0m\n\u001b[0;32m----> 1\u001b[0;31m \u001b[0mtset\u001b[0m\u001b[0;34m.\u001b[0m\u001b[0msort\u001b[0m\u001b[0;34m(\u001b[0m\u001b[0;34m)\u001b[0m\u001b[0;34m\u001b[0m\u001b[0;34m\u001b[0m\u001b[0m\n\u001b[0m\u001b[1;32m      2\u001b[0m \u001b[0mprint\u001b[0m\u001b[0;34m(\u001b[0m\u001b[0mtset\u001b[0m\u001b[0;34m)\u001b[0m\u001b[0;34m\u001b[0m\u001b[0;34m\u001b[0m\u001b[0m\n",
            "\u001b[0;31mAttributeError\u001b[0m: 'set' object has no attribute 'sort'"
          ]
        }
      ]
    },
    {
      "cell_type": "code",
      "source": [
        "tset2=tset1.union(tset)\n",
        "print(tset2)"
      ],
      "metadata": {
        "colab": {
          "base_uri": "https://localhost:8080/"
        },
        "id": "ME5wNkRZjEHi",
        "outputId": "3af8b992-ed69-4c24-c0ae-a7bbb67b18de"
      },
      "execution_count": 176,
      "outputs": [
        {
          "output_type": "stream",
          "name": "stdout",
          "text": [
            "{1, 3, 'banana', 5, 7, 'orange', 'chiku', 'apple'}\n"
          ]
        }
      ]
    },
    {
      "cell_type": "code",
      "source": [
        "car={'model':'mustang','brand':'ford','year':1962\n",
        "    \n",
        "}\n",
        "print(car)"
      ],
      "metadata": {
        "colab": {
          "base_uri": "https://localhost:8080/"
        },
        "id": "1koGO9CzjEKG",
        "outputId": "e3223ec6-dc20-4588-8c20-efea4cb16d28"
      },
      "execution_count": 177,
      "outputs": [
        {
          "output_type": "stream",
          "name": "stdout",
          "text": [
            "{'model': 'mustang', 'brand': 'ford', 'year': 1962}\n"
          ]
        }
      ]
    },
    {
      "cell_type": "code",
      "source": [
        "print(car[\"brand\"])"
      ],
      "metadata": {
        "colab": {
          "base_uri": "https://localhost:8080/"
        },
        "id": "_t0tlxW7jEMx",
        "outputId": "fb33fdb6-fdfa-4d86-c9f6-48fbc42539f6"
      },
      "execution_count": 178,
      "outputs": [
        {
          "output_type": "stream",
          "name": "stdout",
          "text": [
            "ford\n"
          ]
        }
      ]
    },
    {
      "cell_type": "code",
      "source": [
        "x=car.keys()\n",
        "print(x)"
      ],
      "metadata": {
        "colab": {
          "base_uri": "https://localhost:8080/"
        },
        "id": "e9gULFF_jEPG",
        "outputId": "93a67d1a-338d-4a22-9bc4-4b7162cdcfe8"
      },
      "execution_count": 179,
      "outputs": [
        {
          "output_type": "stream",
          "name": "stdout",
          "text": [
            "dict_keys(['model', 'brand', 'year'])\n"
          ]
        }
      ]
    },
    {
      "cell_type": "code",
      "source": [
        "car[\"year\"]=2020\n",
        "print(car)"
      ],
      "metadata": {
        "colab": {
          "base_uri": "https://localhost:8080/"
        },
        "id": "bRDeV_iYjERo",
        "outputId": "5a645207-be80-477b-a4fc-8e84abff6119"
      },
      "execution_count": 182,
      "outputs": [
        {
          "output_type": "stream",
          "name": "stdout",
          "text": [
            "{'model': 'mustang', 'brand': 'ford', 'year': 2020}\n"
          ]
        }
      ]
    },
    {
      "cell_type": "code",
      "source": [
        ""
      ],
      "metadata": {
        "id": "Ig7i590DjEUa"
      },
      "execution_count": null,
      "outputs": []
    },
    {
      "cell_type": "code",
      "source": [
        ""
      ],
      "metadata": {
        "id": "5DTBAZzBjEWv"
      },
      "execution_count": null,
      "outputs": []
    },
    {
      "cell_type": "code",
      "source": [
        ""
      ],
      "metadata": {
        "id": "hRTih9ATjEZa"
      },
      "execution_count": null,
      "outputs": []
    },
    {
      "cell_type": "code",
      "source": [
        ""
      ],
      "metadata": {
        "id": "vF8ooMojjEbn"
      },
      "execution_count": null,
      "outputs": []
    },
    {
      "cell_type": "code",
      "source": [
        ""
      ],
      "metadata": {
        "id": "D9Q5iEFVjEeN"
      },
      "execution_count": null,
      "outputs": []
    }
  ]
}